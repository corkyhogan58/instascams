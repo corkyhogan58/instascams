{
 "cells": [
  {
   "cell_type": "markdown",
   "id": "2f65a4fd",
   "metadata": {
    "heading_collapsed": true
   },
   "source": [
    "# InstaScams\n",
    "\n",
    "This notebook is dedicated to combatting scam accounts.\n",
    "The inspiration is taken from `passports.saime.vzl`, a site\n",
    "with 70k followers which pretends to be the official [SAIME](http://www.saime.gob.ve/)\n",
    "website for Venezuelan citizens to get passports and immigration documents.\n",
    "\n",
    "According to some comments which were deleted, the account is managed by\n",
    "some people who do work at SAIME, but dozens of different users reported that the\n",
    "site was fraudulent. The account gains trust by posting valid information about \n",
    "the visa process. Then it offers individual chats with more information.\n",
    "But soon they will suggest that a fee of `$300` to `$3000`\n",
    "will allow them to process the applications online. If paid, the victim will\n",
    "never get their documents nor money back.\n",
    "\n",
    "This site has been reported hundreds of times to Instagram, but no action has yet been taken.\n"
   ]
  },
  {
   "cell_type": "markdown",
   "id": "3ac7bb02",
   "metadata": {},
   "source": [
    "## Indicators of Fraudulent Sites\n",
    "Some things that might indicate that a site is fraudulent\n",
    "\n",
    "* The account's name has been changed many times\n",
    "* User comments are blocked\n",
    "* Account claims to be \"Official\" but does is not [verified](https://help.instagram.com/733907830039577)\n",
    "\n",
    "![saime_account.png](images/saime_account.png)\n",
    "\n",
    "If you check the '...' \"About\" you see the account has been renamed many times.\n",
    "![former_usernames.png](images/former_usernames.png)"
   ]
  },
  {
   "cell_type": "markdown",
   "id": "522a72ba",
   "metadata": {},
   "source": [
    "# The Basics\n",
    "\n"
   ]
  },
  {
   "cell_type": "code",
   "execution_count": 128,
   "id": "43c3c4c0",
   "metadata": {
    "ExecuteTime": {
     "end_time": "2022-06-29T13:08:49.953808Z",
     "start_time": "2022-06-29T13:08:49.891483Z"
    }
   },
   "outputs": [],
   "source": [
    "import os\n",
    "import requests\n",
    "import json\n",
    "from functools import reduce\n",
    "from datetime import datetime"
   ]
  },
  {
   "cell_type": "markdown",
   "id": "f0a02677",
   "metadata": {},
   "source": [
    "## Instaloader\n",
    "Whenever possible, use instaloader for calls github.com/instaloader/instaloader  \n",
    "https://instaloader.github.io/as-module.html\n"
   ]
  },
  {
   "cell_type": "code",
   "execution_count": 5,
   "id": "f9270df0",
   "metadata": {
    "scrolled": true
   },
   "outputs": [
    {
     "name": "stdout",
     "output_type": "stream",
     "text": [
      "\u001b[33mWARNING: The directory '/home/jovyan/.cache/pip' or its parent directory is not owned or is not writable by the current user. The cache has been disabled. Check the permissions and owner of that directory. If executing pip with sudo, you should use sudo's -H flag.\u001b[0m\u001b[33m\n",
      "\u001b[0mCollecting instaloader\n",
      "  Downloading instaloader-4.9.4.tar.gz (60 kB)\n",
      "\u001b[2K     \u001b[90m━━━━━━━━━━━━━━━━━━━━━━━━━━━━━━━━━━━━━━━\u001b[0m \u001b[32m60.5/60.5 KB\u001b[0m \u001b[31m776.1 kB/s\u001b[0m eta \u001b[36m0:00:00\u001b[0m \u001b[36m0:00:01\u001b[0m\n",
      "\u001b[?25h  Preparing metadata (setup.py) ... \u001b[?25ldone\n",
      "\u001b[?25hRequirement already satisfied: requests>=2.4 in /opt/conda/lib/python3.9/site-packages (from instaloader) (2.27.1)\n",
      "Requirement already satisfied: idna<4,>=2.5 in /opt/conda/lib/python3.9/site-packages (from requests>=2.4->instaloader) (3.3)\n",
      "Requirement already satisfied: urllib3<1.27,>=1.21.1 in /opt/conda/lib/python3.9/site-packages (from requests>=2.4->instaloader) (1.26.9)\n",
      "Requirement already satisfied: charset-normalizer~=2.0.0 in /opt/conda/lib/python3.9/site-packages (from requests>=2.4->instaloader) (2.0.12)\n",
      "Requirement already satisfied: certifi>=2017.4.17 in /opt/conda/lib/python3.9/site-packages (from requests>=2.4->instaloader) (2022.9.14)\n",
      "Building wheels for collected packages: instaloader\n",
      "  Building wheel for instaloader (setup.py) ... \u001b[?25ldone\n",
      "\u001b[?25h  Created wheel for instaloader: filename=instaloader-4.9.4-py3-none-any.whl size=62307 sha256=c88a21bf3a807cb13b82e0cc2fa1a9d46e8a1b37c9bbb5d7028cecbe9723b314\n",
      "  Stored in directory: /tmp/pip-ephem-wheel-cache-uvkz5qg1/wheels/22/2e/69/a82ee5314382488c557ae65b2702df34821a296524ec897304\n",
      "Successfully built instaloader\n",
      "Installing collected packages: instaloader\n",
      "Successfully installed instaloader-4.9.4\n",
      "\u001b[33mWARNING: Running pip as the 'root' user can result in broken permissions and conflicting behaviour with the system package manager. It is recommended to use a virtual environment instead: https://pip.pypa.io/warnings/venv\u001b[0m\u001b[33m\n",
      "\u001b[0m"
     ]
    }
   ],
   "source": [
    "!pip install instaloader"
   ]
  },
  {
   "cell_type": "code",
   "execution_count": 6,
   "id": "01421bda",
   "metadata": {},
   "outputs": [],
   "source": [
    "import instaloader"
   ]
  },
  {
   "cell_type": "markdown",
   "id": "e8ad6ff8",
   "metadata": {},
   "source": [
    "On the commandline, login via `instaloader login` to save creds to a file.\n",
    "then the following call to load_session_from_file will work."
   ]
  },
  {
   "cell_type": "code",
   "execution_count": 10,
   "id": "6aec147a",
   "metadata": {},
   "outputs": [
    {
     "name": "stdout",
     "output_type": "stream",
     "text": [
      "Loaded session from /home/jovyan/.config/instaloader/session-sergeidvorak86.\n"
     ]
    }
   ],
   "source": [
    "target_user = 'saime.pasaporte.ve'\n",
    "\n",
    "L = instaloader.Instaloader()\n",
    "# user to make posts with\n",
    "post_user = 'defeatscammers'\n",
    "# user to read profiles/posts\n",
    "crawl_profile_user = 'defeatscammers'\n",
    "# Optionally, login or load session\n",
    "#L.login(user, PASSWORD)        # (login)\n",
    "#L.interactive_login(user)      # (ask password on terminal)\n",
    "\n",
    "L.load_session_from_file(crawl_profile_user)\n",
    "\n",
    "profile = instaloader.Profile.from_username(L.context, target_user)\n",
    "\n",
    "posts = profile.get_posts()\n"
   ]
  },
  {
   "cell_type": "code",
   "execution_count": 15,
   "id": "d5b89822",
   "metadata": {},
   "outputs": [
    {
     "data": {
      "text/plain": [
       "163"
      ]
     },
     "execution_count": 15,
     "metadata": {},
     "output_type": "execute_result"
    }
   ],
   "source": [
    "posts.count"
   ]
  },
  {
   "cell_type": "markdown",
   "id": "ba35ce57",
   "metadata": {},
   "source": [
    "# Investigations"
   ]
  },
  {
   "cell_type": "markdown",
   "id": "d96ef184",
   "metadata": {},
   "source": [
    "## Check for comments\n",
    "This account used to have open comments, but now almost all posts are closed to\n",
    "comments and have had all comments removed"
   ]
  },
  {
   "cell_type": "code",
   "execution_count": 26,
   "id": "6522866e",
   "metadata": {},
   "outputs": [
    {
     "name": "stdout",
     "output_type": "stream",
     "text": [
      "['__add__', '__class__', '__class_getitem__', '__contains__', '__delattr__', '__delitem__', '__dir__', '__doc__', '__eq__', '__format__', '__ge__', '__getattribute__', '__getitem__', '__gt__', '__hash__', '__iadd__', '__imul__', '__init__', '__init_subclass__', '__iter__', '__le__', '__len__', '__lt__', '__mul__', '__ne__', '__new__', '__reduce__', '__reduce_ex__', '__repr__', '__reversed__', '__rmul__', '__setattr__', '__setitem__', '__sizeof__', '__str__', '__subclasshook__', 'append', 'clear', 'copy', 'count', 'extend', 'index', 'insert', 'pop', 'remove', 'reverse', 'sort']\n",
      "comments_count 0\n",
      "[]\n",
      "saime.pasaporte.ve/2022-06-12_01-56-38_UTC_1.jpg saime.pasaporte.ve/2022-06-12_01-56-38_UTC_2.jpg saime.pasaporte.ve/2022-06-12_01-56-38_UTC_3.jpg [Pasaportes y prórrogas dispon…] json \n",
      "True\n",
      "['__add__', '__class__', '__class_getitem__', '__contains__', '__delattr__', '__delitem__', '__dir__', '__doc__', '__eq__', '__format__', '__ge__', '__getattribute__', '__getitem__', '__gt__', '__hash__', '__iadd__', '__imul__', '__init__', '__init_subclass__', '__iter__', '__le__', '__len__', '__lt__', '__mul__', '__ne__', '__new__', '__reduce__', '__reduce_ex__', '__repr__', '__reversed__', '__rmul__', '__setattr__', '__setitem__', '__sizeof__', '__str__', '__subclasshook__', 'append', 'clear', 'copy', 'count', 'extend', 'index', 'insert', 'pop', 'remove', 'reverse', 'sort']\n",
      "comments_count 0\n",
      "[]\n",
      "saime.pasaporte.ve/2022-06-12_01-55-56_UTC_1.jpg saime.pasaporte.ve/2022-06-12_01-55-56_UTC_2.jpg saime.pasaporte.ve/2022-06-12_01-55-56_UTC_3.jpg saime.pasaporte.ve/2022-06-12_01-55-56_UTC_4.jpg [#Yaracuy || Trabajadores de l…] json \n",
      "True\n",
      "['__add__', '__class__', '__class_getitem__', '__contains__', '__delattr__', '__delitem__', '__dir__', '__doc__', '__eq__', '__format__', '__ge__', '__getattribute__', '__getitem__', '__gt__', '__hash__', '__iadd__', '__imul__', '__init__', '__init_subclass__', '__iter__', '__le__', '__len__', '__lt__', '__mul__', '__ne__', '__new__', '__reduce__', '__reduce_ex__', '__repr__', '__reversed__', '__rmul__', '__setattr__', '__setitem__', '__sizeof__', '__str__', '__subclasshook__', 'append', 'clear', 'copy', 'count', 'extend', 'index', 'insert', 'pop', 'remove', 'reverse', 'sort']\n",
      "comments_count 0\n",
      "[]\n",
      "saime.pasaporte.ve/2022-06-12_01-55-00_UTC_1.jpg saime.pasaporte.ve/2022-06-12_01-55-00_UTC_2.jpg saime.pasaporte.ve/2022-06-12_01-55-00_UTC_3.jpg saime.pasaporte.ve/2022-06-12_01-55-00_UTC_4.jpg [#SaimeContigo || Conoce el li…] json \n",
      "True\n"
     ]
    }
   ],
   "source": [
    "all_comments = {}\n",
    "for index, post in enumerate(posts):\n",
    "    comments = post.get_comments()\n",
    "    comments_count = post.comments\n",
    "    print('comments_count', comments_count)\n",
    "    all_comments[post.shortcode] = comments\n",
    "    print(comments)\n",
    "    dl_post = L.download_post(post, target=target_user)\n",
    "    print(dl_post)\n",
    "    # print the first, then exit\n",
    "    if index > 1:\n",
    "        break"
   ]
  },
  {
   "cell_type": "code",
   "execution_count": 36,
   "id": "4401cc02",
   "metadata": {},
   "outputs": [
    {
     "name": "stdout",
     "output_type": "stream",
     "text": [
      "16\n"
     ]
    }
   ],
   "source": [
    "from glob import glob\n",
    "\n",
    "def load_posts(target_user):\n",
    "    posts = set(filter(lambda s: isinstance(s, instaloader.Post),\n",
    "                           (instaloader.load_structure_from_file(L.context, file)\n",
    "                            for file in (\n",
    "                                glob(f'{target_user}/*.json.xz') + \n",
    "                                glob(f'{target_user}/*.json')))))\n",
    "    return posts\n",
    "\n",
    "posts = load_posts(target_user)\n",
    "print(len(posts))"
   ]
  },
  {
   "cell_type": "markdown",
   "id": "b9584997",
   "metadata": {},
   "source": [
    "### Check for indicators of scam accounts"
   ]
  },
  {
   "cell_type": "markdown",
   "id": "f99bb364",
   "metadata": {},
   "source": [
    "commenting_disabled_for_viewer\n",
    "comments_disabled\n",
    "is_verified\n",
    "\n",
    "\"transparency_product\":\"STATE_CONTROLLED_MEDIA\""
   ]
  },
  {
   "cell_type": "markdown",
   "id": "951cbef4",
   "metadata": {},
   "source": [
    "### Inspect tagged posts"
   ]
  },
  {
   "cell_type": "code",
   "execution_count": 53,
   "id": "6d3f49d3",
   "metadata": {},
   "outputs": [
    {
     "name": "stdout",
     "output_type": "stream",
     "text": [
      "<Post CigVEk0OFdm>\n",
      "<Post CicLyHCD67w>\n",
      "<Post CiauZWyJqFs>\n",
      "<Post CiF6ixKueSX>\n",
      "<Post Chw-2cZDh5q>\n",
      "<Post ChmGybUunXx>\n",
      "<Post Cg2fU6CuN09>\n",
      "<Post Cf9E2JGOuin>\n",
      "<Post CeZS8qiloJA>\n",
      "<Post Cc50-pTLote>\n",
      "<Post CNQ1ek3qEr->\n",
      "<Post CMXLnVin2j4>\n"
     ]
    }
   ],
   "source": [
    "tagged_posts = list(profile.get_tagged_posts())\n",
    "for tagged_post in tagged_posts:\n",
    "    print(tagged_post)"
   ]
  },
  {
   "cell_type": "markdown",
   "id": "08258fd0",
   "metadata": {},
   "source": [
    "### Likes and Comments\n",
    "For scam accounts, you will see a large number of likes and comments\n",
    "being deleted. The victim may delete their like. The scammer will delete\n",
    "critical comments."
   ]
  },
  {
   "cell_type": "code",
   "execution_count": 58,
   "id": "91ab605c",
   "metadata": {},
   "outputs": [],
   "source": [
    "def get_likes_and_comments(posts,\n",
    "                           max_posts=2,\n",
    "                           max_likes=2,\n",
    "                           max_comments=2):\n",
    "    interactions = {}\n",
    "    posts_counter = 0\n",
    "    for post in posts:\n",
    "        shortcode = post.shortcode\n",
    "        print(shortcode)\n",
    "        interactions[shortcode] = {}\n",
    "        likes_count = post.likes\n",
    "        comments_count = post.comments\n",
    "        print(f'post {shortcode} has {likes_count} likes and {comments_count} comments')\n",
    "        if comments_count:\n",
    "            comments = list(post.get_comments())\n",
    "            interactions[shortcode]['comments'] = comments\n",
    "            comment_counter = 0\n",
    "            for comment in comments:\n",
    "                print(comment)\n",
    "                comment_counter += 1\n",
    "                if max_comments and (comment_counter > max_comments):\n",
    "                    break\n",
    "        if likes_count:\n",
    "            likes_counter = 0\n",
    "            # Get profiles of likees\n",
    "            likes = list(post.get_likes())\n",
    "            interactions[shortcode]['likes'] = likes\n",
    "            for like in likes:\n",
    "                likes_counter += 1\n",
    "                print('like', like)\n",
    "                if max_likes and (likes_counter > max_likes):\n",
    "                    break\n",
    "        posts_counter += 1\n",
    "        if max_posts and (posts_counter > max_posts):\n",
    "            break\n",
    "    return interactions"
   ]
  },
  {
   "cell_type": "code",
   "execution_count": 57,
   "id": "e5563de4",
   "metadata": {},
   "outputs": [
    {
     "name": "stdout",
     "output_type": "stream",
     "text": [
      "CigVEk0OFdm\n",
      "post CigVEk0OFdm has 16 likes and 0 comments\n",
      "like <Profile celsosotelo4 (48196323115)>\n",
      "like <Profile guzman_roman_ (3975132953)>\n",
      "like <Profile lourdes.leonett (12992011763)>\n",
      "CicLyHCD67w\n",
      "post CicLyHCD67w has 62 likes and 19 comments\n",
      "PostComment(id=17957171915005113, created_at_utc=datetime.datetime(2022, 9, 13, 9, 59, 37), text='Gracias a ti ya tengo mi cita!!!', owner=<Profile militzaortizjewellery (52570307)>, likes_count=2, answers=<generator object Post.get_comments.<locals>._postcommentanswers at 0x7fb9e0cb2ba0>)\n",
      "PostComment(id=17981575828628416, created_at_utc=datetime.datetime(2022, 9, 14, 21, 49, 21), text='Que emoción ❤️❤️ que te llegue rápido 🙏🏻🥳gracias por la info la voy a compartir yo ando en las mismas Me toca hacer un vídeo así 😵\\u200d💫😁 me pidieron la info full ayer 😖', owner=<Profile biglatinflavours (1081773287)>, likes_count=1, answers=<generator object Post.get_comments.<locals>._postcommentanswers at 0x7fb9e0cb20b0>)\n",
      "PostComment(id=18215875063087087, created_at_utc=datetime.datetime(2022, 9, 13, 8, 38, 52), text='The best asesora 👏 gracias ing.Oriana', owner=<Profile angel_bakeryshop (245466130)>, likes_count=1, answers=<generator object Post.get_comments.<locals>._postcommentanswers at 0x7fb9e0cb2c80>)\n",
      "like <Profile raquelmoens (3067561113)>\n",
      "like <Profile ciarfelladesign.studio (3689302226)>\n",
      "like <Profile cristinaivette08 (189989136)>\n",
      "CiauZWyJqFs\n",
      "post CiauZWyJqFs has 47 likes and 6 comments\n",
      "PostComment(id=17903423405646628, created_at_utc=datetime.datetime(2022, 9, 13, 7, 4, 21), text='Que buen tips🤩porque cada vez que se cae, retumba mi casa con todo lo que digo🤭', owner=<Profile nagai_bijoux (424281685)>, likes_count=1, answers=<generator object Post.get_comments.<locals>._postcommentanswers at 0x7fb9e0cb2eb0>)\n",
      "PostComment(id=17929196066522304, created_at_utc=datetime.datetime(2022, 9, 12, 19, 20, 56), text='Chevere 👍 👍 👍', owner=<Profile neris.paola (4101116816)>, likes_count=1, answers=<generator object Post.get_comments.<locals>._postcommentanswers at 0x7fb9e0bfe040>)\n",
      "PostComment(id=17897940464666981, created_at_utc=datetime.datetime(2022, 9, 12, 22, 27, 40), text='😢😢😢😢', owner=<Profile paolucci40 (319059018)>, likes_count=0, answers=<generator object Post.get_comments.<locals>._postcommentanswers at 0x7fb9e0bfe0b0>)\n",
      "like <Profile emilita_2001 (1415225481)>\n",
      "like <Profile wineinevidence (5933517961)>\n",
      "like <Profile _trujillof (1259902845)>\n"
     ]
    },
    {
     "data": {
      "text/plain": [
       "{'likes': [<Profile celsosotelo4 (48196323115)>,\n",
       "  <Profile guzman_roman_ (3975132953)>,\n",
       "  <Profile lourdes.leonett (12992011763)>,\n",
       "  <Profile regioneducativaaltosmir (3982252947)>,\n",
       "  <Profile modesto_je1 (11125121734)>,\n",
       "  <Profile espijos (3621870219)>,\n",
       "  <Profile fonaamazonas_oficial (48869419680)>,\n",
       "  <Profile aguzmanr90 (2056035841)>,\n",
       "  <Profile drraulin (565390815)>,\n",
       "  <Profile anaodalizdelgado (1966293755)>,\n",
       "  <Profile lugoingridsanchez (53097722648)>,\n",
       "  <Profile queralesisa (3921668645)>,\n",
       "  <Profile wendygomez7430 (4545217995)>,\n",
       "  <Profile marciamiranda3567 (1348342205)>,\n",
       "  <Profile dr_rommel_martinezh (9363886127)>,\n",
       "  <Profile dpdmiranda (7160907183)>]}"
      ]
     },
     "execution_count": 57,
     "metadata": {},
     "output_type": "execute_result"
    }
   ],
   "source": [
    "tagged_interactions = get_likes_and_comments(tagged_posts)\n",
    "tagged_interactions[list(tagged_interactions.keys())[0]]"
   ]
  },
  {
   "cell_type": "markdown",
   "id": "d36a4fbb",
   "metadata": {},
   "source": [
    "# Get Diffs\n",
    "Previous snapshot of posts, comments, likes etc are loaded from disk. \n",
    "Current snapshots are gotten from Instagram. Report any deleted or new posts.\n"
   ]
  },
  {
   "cell_type": "code",
   "execution_count": 61,
   "id": "58ed2552",
   "metadata": {},
   "outputs": [],
   "source": [
    "def get_posts_diff(target_user):\n",
    "    # Obtain set of posts that are on hard disk\n",
    "    offline_posts = set(filter(lambda s: isinstance(s, Post),\n",
    "                           (load_structure_from_file(L.context, file)\n",
    "                            for file in (\n",
    "                                glob(f'{target_user}/*.json.xz') + \n",
    "                                glob(f'{target_user}/*.json')))))\n",
    "\n",
    "    post_iterator = Profile.from_username(L.context, target_user).get_posts()\n",
    "    online_posts = set(post_iterator)\n",
    "\n",
    "    new_posts = online_posts - offline_posts\n",
    "    if online_posts - offline_posts:\n",
    "        print(\"Not yet downloaded posts:\")\n",
    "        print(\" \".join(str(p) for p in (new_posts)))\n",
    "    for post in new_posts:\n",
    "        # 2022-07-22_16-02-32_UTC.json\n",
    "        timestamp = post.date_utc\n",
    "        instaloader.save_structure_to_file(post, f'{target_user}/{timestamp}.json)')\n",
    "\n",
    "    deleted_posts = offline_posts - online_posts\n",
    "    if deleted_posts:\n",
    "        print(\"Deleted posts:\")\n",
    "        print(\" \".join(str(p) for p in (deleted_posts)))\n",
    "                                           \n",
    "    # __eq__ only comparse shortcodes https://github.com/instaloader/instaloader/blob/3cc29a4ceb3ff4cd04a73dd4b20979b03128f454/instaloader/structures.py#L182\n",
    "    # Now we need to dive deeper into comments and likes from previously existing posts.\n",
    "    # Compare the online and offline comments and likes\n",
    "    online_shortcode_dict = {x.shortcode: x for x in online_posts}\n",
    "    offline_shortcode_dict = {x.shortcode: x for x in offline_posts}\n",
    "    intersection_posts = online_posts.intersection(offline_posts)\n",
    "    new_interactions = {'likes': {}, 'comments': {}}\n",
    "    deleted_interactions = {'likes': {}, 'comments': {}}\n",
    "    for post in intersection_posts:\n",
    "        online_interactions = get_likes_and_comments(\n",
    "            [online_shortcode_dict[post.shortcode]])\n",
    "        offline_interactions = get_likes_and_comments(\n",
    "            [offline_shortcode_dict[post.shortcode]])\n",
    "        new_interactions['likes'][post.shortcode] = set(online_interactions['likes']) \\\n",
    "            - set(offline_interactions['likes'])\n",
    "        deleted_interactions['likes'][post.shortcode] = set(offline_interactions['likes']) \\\n",
    "            - set(online_interactions['likes'])\n",
    "\n",
    "    return new_posts, deleted_posts\n"
   ]
  },
  {
   "cell_type": "markdown",
   "id": "e8d944b8",
   "metadata": {},
   "source": [
    "## Saime shortcodes"
   ]
  },
  {
   "cell_type": "code",
   "execution_count": 96,
   "id": "156724fd",
   "metadata": {
    "ExecuteTime": {
     "end_time": "2022-06-29T13:09:00.074922Z",
     "start_time": "2022-06-29T13:09:00.071143Z"
    }
   },
   "outputs": [],
   "source": [
    "# Manually gathered shortcodes (right click) on homepage\n",
    "saime_post_shortcodes = [\n",
    "    'CfPAvzkOPq6',\n",
    "    'Cev_amPu-3X',\n",
    "    'CemmG8_MIMb',\n",
    "    'Ceml3JbMHiT',\n",
    "    'CeiN4KuuDJf',\n",
    "    'CeiNK0DuLXr',\n",
    "    'CeiL_uoupB7',\n",
    "    'Ceb2mWaD2MD',\n",
    "    'CdNLaPmussG',\n",
    "    'CdAVhkssfpB',\n",
    "    'Cc6u6lUspmS',\n",
    "    'Cc6h4EYslRe'\n",
    "]\n",
    "\n",
    "saime_video_shortcodes = [\n",
    "    'Ceb2mWaD2MD',\n",
    "    'CZminxDDJl2',\n",
    "    'CZi3_4kAdRA',\n",
    "    'CXjYn8Qp39V',\n",
    "    'CWd85Z2D1nG',\n",
    "    'CVT9HaMjWLA',\n",
    "]\n"
   ]
  },
  {
   "cell_type": "code",
   "execution_count": 97,
   "id": "dd1f3b14",
   "metadata": {
    "ExecuteTime": {
     "end_time": "2022-06-29T13:09:00.085459Z",
     "start_time": "2022-06-29T13:09:00.077556Z"
    }
   },
   "outputs": [
    {
     "data": {
      "text/plain": [
       "{'Cc6h4EYslRe',\n",
       " 'Cc6u6lUspmS',\n",
       " 'CdAVhkssfpB',\n",
       " 'CdNLaPmussG',\n",
       " 'Ceb2mWaD2MD',\n",
       " 'CeiL_uoupB7',\n",
       " 'CeiN4KuuDJf',\n",
       " 'CeiNK0DuLXr',\n",
       " 'Ceml3JbMHiT',\n",
       " 'CemmG8_MIMb',\n",
       " 'Cev_amPu-3X',\n",
       " 'CfPAvzkOPq6'}"
      ]
     },
     "execution_count": 97,
     "metadata": {},
     "output_type": "execute_result"
    }
   ],
   "source": [
    "shortcodes = [\n",
    "'CfPAvzkOPq6',\n",
    "'Cev_amPu-3X',\n",
    "'CemmG8_MIMb',\n",
    "'Ceml3JbMHiT',\n",
    "'CeiN4KuuDJf',\n",
    "'CeiNK0DuLXr',\n",
    "'CeiL_uoupB7',\n",
    "'Ceb2mWaD2MD',\n",
    "'CdNLaPmussG',\n",
    "'CdAVhkssfpB',\n",
    "'Cc6u6lUspmS',\n",
    "'Cc6h4EYslRe',\n",
    "'Ceb2mWaD2MD',\n",
    "'CZminxDDJl2',\n",
    "'CZi3_4kAdRA',\n",
    "'CXjYn8Qp39V',\n",
    "'CWd85Z2D1nG',\n",
    "'CVT9HaMjWLA',\n",
    "'CTJN_sBjavf',\n",
    "'CTAmn2Pphl5',\n",
    "'CSyNe_0jNvq',\n",
    "'CSpq4fLD3HE',\n",
    "'CSfnrlHDTi2',\n",
    "'CSZ0DRyj1tB',\n",
    "]\n",
    "\n",
    "set(shortcodes).intersection(set(saime_post_shortcodes))"
   ]
  },
  {
   "cell_type": "code",
   "execution_count": 98,
   "id": "ca22f239",
   "metadata": {
    "ExecuteTime": {
     "end_time": "2022-06-29T13:09:00.093595Z",
     "start_time": "2022-06-29T13:09:00.087837Z"
    }
   },
   "outputs": [
    {
     "data": {
      "text/plain": [
       "{'CVT9HaMjWLA',\n",
       " 'CWd85Z2D1nG',\n",
       " 'CXjYn8Qp39V',\n",
       " 'CZi3_4kAdRA',\n",
       " 'CZminxDDJl2',\n",
       " 'Ceb2mWaD2MD'}"
      ]
     },
     "execution_count": 98,
     "metadata": {},
     "output_type": "execute_result"
    }
   ],
   "source": [
    "set(shortcodes).intersection(set(saime_video_shortcodes))"
   ]
  },
  {
   "cell_type": "code",
   "execution_count": 99,
   "id": "d1b7de52",
   "metadata": {
    "ExecuteTime": {
     "end_time": "2022-06-29T13:09:00.103180Z",
     "start_time": "2022-06-29T13:09:00.096128Z"
    }
   },
   "outputs": [
    {
     "data": {
      "text/plain": [
       "24"
      ]
     },
     "execution_count": 99,
     "metadata": {},
     "output_type": "execute_result"
    }
   ],
   "source": [
    "len(shortcodes)"
   ]
  },
  {
   "cell_type": "markdown",
   "id": "3e8bf9fe",
   "metadata": {},
   "source": [
    "## Post Comments Unit Test 2859783193106312663 \n",
    "June 18, first picture on square grid profile. \n",
    "\n",
    "https://www.instagram.com/p/Cev_amPu-3X/\n",
    "```\n",
    "47 mins ago\n",
    "yuramyborges\n",
    "Buenas tardes disculpe quería saber sobre de un pasaporte que saqué el \n",
    "11 de marzo acá en Ecuador pero no me ha llegado solamente me llegó el \n",
    "anuncio de impresión gracias\n",
    "```\n",
    "```\n",
    "3d ago\n",
    "ccqhud270\n",
    "Buenas tardes quisiera informacion sobre un pasaporte, \n",
    "que estoy necesitando, sería express se encuentra en Chile y quiere \n",
    "regresar a Venezuela. Ya su pasaporte tiene dos prórrogas y se vence en \n",
    "Marzo 2023 . Agradecida de antemano me puedan orientar\n",
    "```"
   ]
  },
  {
   "cell_type": "markdown",
   "id": "29cc0b2d",
   "metadata": {},
   "source": [
    "## Video Comments Unit Test 2854114918780592899"
   ]
  },
  {
   "cell_type": "code",
   "execution_count": 104,
   "id": "d546b8cd",
   "metadata": {
    "ExecuteTime": {
     "end_time": "2022-06-29T13:09:01.025053Z",
     "start_time": "2022-06-29T13:09:00.813160Z"
    }
   },
   "outputs": [
    {
     "name": "stderr",
     "output_type": "stream",
     "text": [
      "/opt/conda/lib/python3.9/site-packages/urllib3/connectionpool.py:1043: InsecureRequestWarning: Unverified HTTPS request is being made to host 'host.docker.internal'. Adding certificate verification is strongly advised. See: https://urllib3.readthedocs.io/en/1.26.x/advanced-usage.html#ssl-warnings\n",
      "  warnings.warn(\n"
     ]
    },
    {
     "data": {
      "text/plain": [
       "[{'user_id': 51942343913,\n",
       "  'comment_create_at_utc': '2022-06-07 22:36:56',\n",
       "  'text': 'Los pasaportes de la Urbina, por favor alguien q me conteste, por favor',\n",
       "  'username': 'josegallardo2909',\n",
       "  'full_name': 'José gallardo',\n",
       "  'child_comment_count': 0,\n",
       "  'child_comments': []},\n",
       " {'user_id': 5724296318,\n",
       "  'comment_create_at_utc': '2022-06-05 20:25:02',\n",
       "  'text': 'La gente se salió de Venezuela 😂😂',\n",
       "  'username': 'giseleli1',\n",
       "  'full_name': 'Gisela Roa',\n",
       "  'child_comment_count': 0,\n",
       "  'child_comments': []}]"
      ]
     },
     "execution_count": 104,
     "metadata": {},
     "output_type": "execute_result"
    }
   ],
   "source": [
    "media_id = 2854114918780592899\n",
    "get_comments_user_text(media_id)"
   ]
  },
  {
   "cell_type": "code",
   "execution_count": null,
   "id": "734f77f2",
   "metadata": {},
   "outputs": [],
   "source": [
    "### Highlighted Data Captured"
   ]
  },
  {
   "cell_type": "markdown",
   "id": "2e11efff",
   "metadata": {
    "ExecuteTime": {
     "end_time": "2022-06-29T15:14:24.565496Z",
     "start_time": "2022-06-29T15:14:24.555004Z"
    }
   },
   "source": [
    "Data\n",
    "Denuncio cuenta IG @saime_redoficial estafador con \n",
    "CI 24.237.821 \n",
    "se llama Luis Ramón Gonzalez Moreno \n",
    "cuenta bco vzla con \n",
    "celular 04120346974 es funcionario \n",
    "Saime que roba a usuarios en oficina plaza Caracas \n",
    "y la mamá en Saime sede Propatria\n",
    "\n",
    "\n",
    "**Facebook**\n",
    "\n",
    "Saime Pasaporte (Official)  \n",
    "Joshua Fernando Castro Reyes  \n",
    "No es por nada eso es una estafa saben el tipo es un venezolano que asta ami persona estafó me dijo que publicará eso mismo y que me pagaría 10 mil pesos por día y como uno anda nesecitado de trabajo ps cuando lo resulte cobrando nunca me pago asta el día de hoy se desentendido así que ya saben no caigan en cuento es una estafa"
   ]
  },
  {
   "cell_type": "markdown",
   "id": "e21ae627",
   "metadata": {},
   "source": [
    "# References\n",
    "\n",
    "https://towardsdatascience.com/discover-insights-from-your-instagram-business-account-with-facebook-graph-api-and-python-81d20ee2e751"
   ]
  },
  {
   "cell_type": "markdown",
   "id": "c3a7f6a3",
   "metadata": {},
   "source": [
    "# Still need to port these functions"
   ]
  },
  {
   "cell_type": "markdown",
   "id": "c044d8d0",
   "metadata": {},
   "source": [
    "## Post Comments"
   ]
  },
  {
   "cell_type": "code",
   "execution_count": 165,
   "id": "27439435",
   "metadata": {
    "ExecuteTime": {
     "end_time": "2022-07-03T23:36:53.036395Z",
     "start_time": "2022-07-03T23:36:52.853212Z"
    },
    "scrolled": true
   },
   "outputs": [],
   "source": [
    "def request_follow(user_id):\n",
    "    '''\n",
    "    We need a non-bot account likely of being followed back\n",
    "    '''\n",
    "    burp0_url = f\"https://www.instagram.com/web/friendships/{user_id}/follow/\"\n",
    "    follow_request = get_burp(burp0_url, method=\"POST\")\n",
    "    return follow_request\n",
    "    \n",
    "def post_comment_by_id(media_id, comment, dry_run=False):\n",
    "\n",
    "    burp0_url = f\"https://www.instagram.com:443/web/comments/{media_id}/add/\"\n",
    "    # TODO manage cookies better\n",
    "    burp0_data = {\"comment_text\": comment, \"replied_to_comment_id\": ''}\n",
    "    if dry_run:\n",
    "        print(f'dry-run, would have posted {comment} to media_id {media_id}')\n",
    "        return {'media_id': 'dry_run', \n",
    "                'comment': 'dry_run', \n",
    "                'status': 'dry_run'}\n",
    "    else:\n",
    "        response = post_session.post(burp0_url, data=burp0_data)\n",
    "    if response and isinstance(response, requests.Response):\n",
    "        if (response.status_code == 200):\n",
    "            return response.json()\n",
    "        else:\n",
    "            return response.text\n",
    "    else:\n",
    "        print('failed to post_comment by id')\n",
    "        print(response.text)\n",
    "        print(response)\n",
    "        print(type(response))\n",
    "        return None\n",
    "    \n",
    "def post_comment(user, comment, dry_run=False):\n",
    "    '''\n",
    "    Post a new comment if we haven't before\n",
    "    '''\n",
    "    with open('bot_comments.json', 'r') as f:\n",
    "        bot_comments = json.load(f)\n",
    "    media_comment = get_most_recently_commented_on_post(user)\n",
    "    username = user['username']\n",
    "    if not media_comment:\n",
    "        print(f'No media found for {username} to comment on')\n",
    "        print(request_follow(user['id']))\n",
    "        return None\n",
    "    media_id = media_comment['media_id']\n",
    "    commented_usernames = [x['username'] for x in bot_comments]\n",
    "    print('commented_usernames', commented_usernames)\n",
    "    if not media_id:\n",
    "        print('No media_ids, possibly private. Request follow')\n",
    "        request_follow(username)\n",
    "    else:\n",
    "        shortcode = media_comment['shortcode']\n",
    "        if username in commented_usernames:\n",
    "            print(f'''Already posted to media_id {media_id}\n",
    "            shortcode: {shortcode}, username: {username}''')\n",
    "            return None\n",
    "        print(f'Posting to media_comment: {media_comment}')\n",
    "        response = post_comment_by_id(media_id, comment, dry_run=dry_run)\n",
    "        if not response:\n",
    "            print(f'Could not post to {username}. No comments found for {media_id}')\n",
    "            return None\n",
    "        if response['status'] == 'ok':\n",
    "            bot_comments.append({'username': username, \n",
    "                                 'media_id': media_id, \n",
    "                                 'shortcode': shortcode, \n",
    "                                 'comment': comment,\n",
    "                                 'comment_id': response['id'],\n",
    "                                 'created_time': response['created_time']\n",
    "                                })\n",
    "            print(f'posted comment to {username} at {shortcode}')\n",
    "            with open('bot_comments.json', 'w') as f:\n",
    "                json.dump(bot_comments, f)\n",
    "            return response['id']\n",
    "        else:\n",
    "            if not dry_run:\n",
    "                print('Post comment failed: {response}')\n",
    "    print(f'Post comment failed for media_id {media_id}')\n",
    "    return None\n",
    "\n",
    "def delete_comment(media_id, comment_id):\n",
    "    burp0_url = f\"https://www.instagram.com:443/web/comments/{media_id}/delete/{post_id}/\"\n",
    "    response = session.post(burp0_url, headers=burp0_headers, cookies=burp0_cookies)\n",
    "    return response\n",
    "\n",
    "def get_most_recently_commented_on_post(user):\n",
    "    '''\n",
    "    To contact a user, we will find there most recent post with\n",
    "    a comment and \n",
    "    '''\n",
    "    since_date = '00-00-00'\n",
    "    latest_comments = get_latest_commenters(user, since_date)\n",
    "    return latest_comments[0] if len(latest_comments) > 0 else None\n",
    "    \n",
    "\n",
    "comment = 'denuncia https://enlabajaita.com/2021/08/22/reportan-cuenta-falsa-en-instagram-la-cual-se-esta-haciendo-pasar-por-la-del-saime-oficial/'\n",
    "\n",
    "#post_id = post_comment('ibangely3544', comment)\n",
    "#print(post_id)\n"
   ]
  },
  {
   "cell_type": "code",
   "execution_count": null,
   "id": "b5531f53",
   "metadata": {
    "ExecuteTime": {
     "end_time": "2022-07-03T20:07:39.259838Z",
     "start_time": "2022-07-03T20:07:36.077589Z"
    }
   },
   "outputs": [],
   "source": [
    "cardinals_id = '51240459'\n",
    "req_follow = request_follow(cardinals_id)\n",
    "req_follow"
   ]
  },
  {
   "cell_type": "code",
   "execution_count": 71,
   "id": "e0b9156a",
   "metadata": {
    "ExecuteTime": {
     "end_time": "2022-07-03T23:37:51.804129Z",
     "start_time": "2022-07-03T23:37:47.404291Z"
    }
   },
   "outputs": [
    {
     "name": "stdout",
     "output_type": "stream",
     "text": [
      "failed to post_comment by id\n",
      "<Response [403]>\n"
     ]
    }
   ],
   "source": [
    "post_comment_by_id(test_media_ids[0], comment)"
   ]
  },
  {
   "cell_type": "code",
   "execution_count": null,
   "id": "56bbefa9",
   "metadata": {
    "ExecuteTime": {
     "end_time": "2022-07-03T20:09:50.379621Z",
     "start_time": "2022-07-03T20:08:46.170330Z"
    }
   },
   "outputs": [],
   "source": [
    "get_most_recently_commented_on_post(\n",
    "    get_user_profile('od.jeanvieira')['data']['user'])"
   ]
  },
  {
   "cell_type": "code",
   "execution_count": null,
   "id": "1e3b3b08",
   "metadata": {
    "ExecuteTime": {
     "end_time": "2022-06-29T15:19:59.494369Z",
     "start_time": "2022-06-29T15:19:59.494345Z"
    }
   },
   "outputs": [],
   "source": [
    "response = delete_comment('2862155623225157033', '17928474998210663')\n",
    "response"
   ]
  },
  {
   "cell_type": "markdown",
   "id": "7cab2d56",
   "metadata": {},
   "source": [
    "# Warn Users"
   ]
  },
  {
   "cell_type": "code",
   "execution_count": null,
   "id": "66fbfe36",
   "metadata": {
    "ExecuteTime": {
     "end_time": "2022-07-06T14:02:05.517596Z",
     "start_time": "2022-07-06T14:01:59.600893Z"
    },
    "scrolled": true
   },
   "outputs": [],
   "source": [
    "def warn_users(target_user, comment, bot_comments, date, max_commenters=10, dry_run=True):\n",
    "    not_commentable = []\n",
    "    commented_on = []\n",
    "    skipped = []\n",
    "    bot_comments_usernames = [x['username'] for x in bot_comments]\n",
    "    latest_commenters = get_latest_commenters(target_user, date)\n",
    "    print(f'Found {len(latest_commenters)} comments')\n",
    "    if not latest_commenters:\n",
    "        not_commentable.append((commenter_username, result))\n",
    "    if max_commenters and max_commenters < len(latest_commenters):\n",
    "        latest_commenters = latest_commenters[0:max_commenters]\n",
    "    for commenter in latest_commenters:\n",
    "        commenter_user = get_user_profile(commenter['username'])\n",
    "        commenter_user = commenter_user['data']['user']\n",
    "        commenter_username = commenter_user['username']\n",
    "        if commenter_username in bot_comments_usernames:\n",
    "            print('already processed commenter_username ', commenter_username)\n",
    "            skipped.append(commenter_username)\n",
    "            continue\n",
    "        result = post_comment(commenter_user, \n",
    "                     comment, \n",
    "                     dry_run=dry_run\n",
    "                    )\n",
    "        if result and hasattr(result, 'status_code'):\n",
    "            if result.status_code > 299:\n",
    "                not_commentable.append((commenter_username, result))\n",
    "            else:    \n",
    "                commented_on.append((commenter_username, result))\n",
    "        elif isinstance(result, dict):\n",
    "            not_commentable.append((commenter_username, result))\n",
    "        else:\n",
    "            not_commentable.append((commenter_username, result))\n",
    "            print(commenter_username, \n",
    "                  'result is not a valid requests response ', \n",
    "                  result)\n",
    "\n",
    "    return commented_on, not_commentable, skipped\n",
    "    \n",
    "with open('bot_comments.json', 'r') as f:\n",
    "    bot_comments = json.load(f)\n",
    "date = '2022-06-01'\n",
    "target_user = user\n",
    "max_commenters = 10\n",
    "denuncia = f'''hola. Vi tu commentario en la pagina de pasaportes.saime.vzl. \n",
    "Te aviso que esta un enstafador, que reciben tu dinero y nunca te dan nada. \n",
    "https://www.facebook.com/Denuncia-SAIME-pasaporte-estafas-100816476034483'''\n",
    "commented_on, not_commentable, skipped = warn_users(\n",
    "    target_user, denuncia, bot_comments, date, \n",
    "    max_commenters=max_commenters, dry_run=False)\n"
   ]
  },
  {
   "cell_type": "markdown",
   "id": "bcd0251f",
   "metadata": {},
   "source": [
    "## Search"
   ]
  },
  {
   "cell_type": "code",
   "execution_count": 135,
   "id": "ef1ca3db",
   "metadata": {
    "ExecuteTime": {
     "end_time": "2022-07-03T11:17:40.855097Z",
     "start_time": "2022-07-03T11:17:38.956895Z"
    },
    "scrolled": true
   },
   "outputs": [
    {
     "data": {
      "text/plain": [
       "['citas.pasaporte.med',\n",
       " 'fastvisa.vyp',\n",
       " 'historiasypasaportes',\n",
       " 'nikos_pass_',\n",
       " 'pas_aportes',\n",
       " 'pasa_portesvzla',\n",
       " 'pasaportepma',\n",
       " 'pasaportes',\n",
       " 'pasaportes.citas.medellin',\n",
       " 'pasaportes.citascali',\n",
       " 'pasaportes.saime.vzl',\n",
       " 'pasaportes.saltillo',\n",
       " 'pasaportes_.venezolanos',\n",
       " 'pasaportes_antioquia',\n",
       " 'pasaportes_bogota',\n",
       " 'pasaportes_chile_ya',\n",
       " 'pasaportes_col',\n",
       " 'pasaportes_colombia',\n",
       " 'pasaportes_magdalena',\n",
       " 'pasaportes_medellin',\n",
       " 'pasaportes_prorroga',\n",
       " 'pasaportes_tulua',\n",
       " 'pasaportes_valle',\n",
       " 'pasaportesadestino',\n",
       " 'pasaportescolombia',\n",
       " 'pasaportesefardi',\n",
       " 'pasaportesindestino',\n",
       " 'pasaportesmag',\n",
       " 'pasaportespvat',\n",
       " 'pasaportesrd',\n",
       " 'pasaportestudio',\n",
       " 'pasaportesvenezolano',\n",
       " 'pasaportesvzlauy',\n",
       " 'pasaportesyciudadanias',\n",
       " 'porta.typo',\n",
       " 'porta_pasaporte',\n",
       " 'porta_pasaportes',\n",
       " 'portapasaportes',\n",
       " 'portutramite',\n",
       " 'san.tiago_93',\n",
       " 'sellando.pasaportes',\n",
       " 'tramitedevisaypasaportes',\n",
       " 'visasypasaportestueme']"
      ]
     },
     "execution_count": 135,
     "metadata": {},
     "output_type": "execute_result"
    }
   ],
   "source": [
    "get_user_by_search(username)\n",
    "target_searches = {}\n",
    "target_searches['pasaportes'] = search_users(\"pasaportes\")\n",
    "sorted(target_searches['pasaportes'])"
   ]
  },
  {
   "cell_type": "code",
   "execution_count": 136,
   "id": "c5ed1b13",
   "metadata": {
    "ExecuteTime": {
     "end_time": "2022-06-29T13:12:36.515570Z",
     "start_time": "2022-06-29T13:12:36.120140Z"
    },
    "scrolled": true
   },
   "outputs": [
    {
     "data": {
      "text/plain": [
       "['alepasaportes12',\n",
       " 'pasa_portesvzla',\n",
       " 'pasaporte_saime.vz',\n",
       " 'pasaportes.pvat',\n",
       " 'pasaportes.saime.vzl',\n",
       " 'pasaportes.vzla',\n",
       " 'pasaportes.vzla1',\n",
       " 'pasaportes_valle',\n",
       " 'pasaportes_vzla',\n",
       " 'pasaportesccsymas',\n",
       " 'pasaportesextraviadosvzla',\n",
       " 'pasaportesvzla',\n",
       " 'pasaportesvzlauy',\n",
       " 'pasaportesytramitesvenezuela',\n",
       " 'passaportesexpresvzla',\n",
       " 'prorrogapasaportesvzla',\n",
       " 'saime.pasaporte.vzla',\n",
       " 'tramitespasaportesvzlaa',\n",
       " 'tramitesvisas_pasaportes_svaca']"
      ]
     },
     "execution_count": 136,
     "metadata": {},
     "output_type": "execute_result"
    }
   ],
   "source": [
    "target_searches['pasaportes vz'] = search_users('pasaportes vz')\n",
    "sorted(target_searches['pasaportes vz'])"
   ]
  },
  {
   "cell_type": "code",
   "execution_count": 156,
   "id": "63228b65",
   "metadata": {
    "ExecuteTime": {
     "end_time": "2022-06-29T13:12:37.233656Z",
     "start_time": "2022-06-29T13:12:36.518198Z"
    },
    "scrolled": true
   },
   "outputs": [
    {
     "data": {
      "text/plain": [
       "['asesoria_saime_pasaporte',\n",
       " 'franw_passaport',\n",
       " 'gestionsaime_',\n",
       " 'pasaport_vzla',\n",
       " 'pasaporte_saime.vz',\n",
       " 'pasaportes.saime.vzl',\n",
       " 'pasaportesaimevv',\n",
       " 'saime.pasaporte.vzla',\n",
       " 'saime.pasaporte2',\n",
       " 'saime.pasaportess',\n",
       " 'saime_express',\n",
       " 'saime_pasaporte.com.ve',\n",
       " 'saime_pasaporte1',\n",
       " 'saime_pasaporte21',\n",
       " 'saime_pasaporte_',\n",
       " 'saime_pasaporte_ve',\n",
       " 'saimegestiones',\n",
       " 'saimepasaporte2019',\n",
       " 'saimepasaporteweb',\n",
       " 'spasaporte']"
      ]
     },
     "execution_count": 156,
     "metadata": {},
     "output_type": "execute_result"
    }
   ],
   "source": [
    "sorted(search_users('saime pasaporte'))"
   ]
  },
  {
   "cell_type": "code",
   "execution_count": null,
   "id": "59c94a6e",
   "metadata": {
    "ExecuteTime": {
     "end_time": "2022-06-29T15:13:43.697184Z",
     "start_time": "2022-06-29T15:13:43.687665Z"
    },
    "scrolled": false
   },
   "outputs": [],
   "source": [
    "def get_interacting_users(targets, date):\n",
    "    interacting_users_by_target = {}\n",
    "    for target_username in targets:\n",
    "        print(\"getting commenters for \", target_username)\n",
    "        target_user = get_user_profile(target_username)['data']['user']\n",
    "        interacting_users_by_target[target] = get_latest_commenters(\n",
    "                target_user, date)\n",
    "    # TODO Add likes\n",
    "    \n",
    "    return interacting_users_by_target\n",
    "\n",
    "def get_interactions(interacting_users_by_target):\n",
    "    interactions = {}\n",
    "    for owner, interaction_user_values in interacting_users_by_target.items():\n",
    "        interaction_users = [x['username'] for x in interaction_user_values]\n",
    "        print(owner, interaction_users)\n",
    "        for target in interacting_users_by_target.keys():\n",
    "            if target in interaction_users:\n",
    "                interactions[owner].append(target)\n",
    "    return interactions\n",
    "                \n",
    "interacting_users = get_interacting_users(\n",
    "    target_searches['pasaportes vz'][0:3], '2022-05-01')\n",
    "print(interacting_users)\n",
    "get_interactions(interacting_users)"
   ]
  }
 ],
 "metadata": {
  "kernelspec": {
   "display_name": "Python 3 (ipykernel)",
   "language": "python",
   "name": "python3"
  },
  "language_info": {
   "codemirror_mode": {
    "name": "ipython",
    "version": 3
   },
   "file_extension": ".py",
   "mimetype": "text/x-python",
   "name": "python",
   "nbconvert_exporter": "python",
   "pygments_lexer": "ipython3",
   "version": "3.9.10"
  },
  "toc": {
   "base_numbering": 1,
   "nav_menu": {},
   "number_sections": true,
   "sideBar": true,
   "skip_h1_title": false,
   "title_cell": "Table of Contents",
   "title_sidebar": "Contents",
   "toc_cell": false,
   "toc_position": {
    "height": "calc(100% - 180px)",
    "left": "10px",
    "top": "150px",
    "width": "189.938px"
   },
   "toc_section_display": true,
   "toc_window_display": true
  }
 },
 "nbformat": 4,
 "nbformat_minor": 5
}
